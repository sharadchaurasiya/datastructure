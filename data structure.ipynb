{
 "cells": [
  {
   "cell_type": "markdown",
   "id": "c80e76c1-6004-4682-8d92-0b87e300fd89",
   "metadata": {},
   "source": [
    "THEORY QUESTIONS :-"
   ]
  },
  {
   "cell_type": "markdown",
   "id": "fd092c98-871b-4346-af3e-badc54400796",
   "metadata": {},
   "source": [
    "1. What are data structures, and why are they important ?\n",
    "-  Data structures are specialized formats for organizing,storing and accessing collections of data.data stucture are the important for :-\n",
    "   Choosing the right data structure significantly impacts the efficiency and performance of your program.\n",
    "   Well-chosen data structures can:\n",
    "   Simplify data manipulation (adding, removing, modifying elements)\n",
    "   Optimize searching and sorting operations\n",
    "   Conserve memory usage.\n",
    "   \n",
    "2. Explain the difference between mutable and immutable data types with examples ?\n",
    "-  Mutable Data Types\n",
    "         - Objects can be modified after creation.\n",
    "         - Changing elements does not create a new object, it modifies the existing one.\n",
    "         - Examples: Lists, Dictionaries, Sets\n",
    "         \n",
    "  Immutable Data Types\n",
    "        - Objects cannot be changed after creation.\n",
    "        - Any modification creates a new object rather than altering the existing one.\n",
    "        - Examples: Tuples, Strings, Integers, Floats\n",
    "        \n",
    "  Modification:\n",
    "        - Mutable: Can be changed after creation.\n",
    "        - Immutable: Cannot be changed; a new object must be created.\n",
    "        - Examples:\n",
    "        - Mutable: Lists, dictionaries, sets.\n",
    "        - Immutable: Strings, tuples, integers, floats.\n",
    "        - Memory Usage:\n",
    "        - Mutable: Changes occur in place, reducing unnecessary memory allocation.\n",
    "        - Immutable: A new object is created upon modification, increasing memory usage.\n",
    "        - Performance:\n",
    "        - Mutable: Slower for certain operations due to modification overhead.\n",
    "        - Immutable: Faster as they don’t require additional memory modifications.\n",
    "        - Safety:\n",
    "        - Mutable: Can lead to unintended side effects in programming.\n",
    "        - Immutable: Ensures data integrity, preventing accidental changes.\n",
    "\n",
    "Question 3 : What are the main differences between lists and tuples in Python\n",
    "Answwer     The main difference between lists and tuples in Python is that lists are mutable (can be changed) while tuples are immutable (cannot be                  changed after creation). Lists are enclosed in square brackets [], while tuples are enclosed in parentheses (). \n",
    "             Lists:\n",
    "             Mutable: Elements can be added, removed, or changed after the list is created. \n",
    "             Dynamic: The size of a list can change as elements are added or removed. \n",
    "             Usage: Suitable for data that needs frequent updates or modifications. \n",
    "             Examples: my_list = [1, 2, 3], my_list[0] = 4 (changing an element). \n",
    "             Tuples:\n",
    "             Immutable: Once created, elements cannot be modified or deleted. \n",
    "             Static: The size of a tuple is fixed after creation. \n",
    "             Usage: Suitable for data that needs to remain constant or for situations where data integrity is important. \n",
    "              Examples: my_tuple = (1, 2, 3). \n",
    "\n",
    "Question 4 : Describe how dictionaries store data.\n",
    "Answer   Dictionaries, in programming, store data using a key-value pair system. This means that each piece of data is associated with a unique                     identifier, called the key, and its value is the actual data stored. This organization allows for efficient retrieval of data by using the               key to locate its corresponding value. \n",
    "         Elaboration:\n",
    "         Key-Value Pairs:\n",
    "         Dictionaries store data in the form of key-value pairs. The key is a unique identifier (like a name or an index), and the value is the data                associated with that key. \n",
    "         Unordered:\n",
    "         Dictionaries in Python, for example, are unordered, meaning the order in which the key-value pairs are stored is not guaranteed and does not               affect how the data is accessed or retrieved. \n",
    "         Mutable:\n",
    "         Dictionaries are typically mutable, meaning they can be modified after creation. This includes adding, deleting, or updating key-value pairs. \n",
    "         Unique Keys:\n",
    "         Keys within a dictionary must be unique. If you try to insert a duplicate key, the existing value associated with that key will be        \n",
    "         overwritten. \n",
    "         Immutable Keys:\n",
    "         Keys in many programming languages (like Python) must be of immutable data types (such as strings, numbers, or tuples). \n",
    " \n",
    "\n",
    "Question 5 :Why might you use a set instead of a list in Python\n",
    "Answer -  Sets and lists serve different purposes in Python, and choosing one over the other depends on the specific task you’re trying to accomplish \n",
    "            Her\n",
    "         - Uniqueness: Sets automatically remove duplicate values, making them ideal for storing collections of unique elements.\n",
    "         - Fast Membership Testing: Checking if an item exists in a set (x in my_set) is much faster than checking in a list because sets use a hash-              based lookup.\n",
    "         - Set Operations: Sets support mathematical operations like union (|), intersection (&), and difference (-), which are extremely useful for               data comparisons.\n",
    "         - Ordering Doesn't Matter: If you don’t care about the order of elements, a set can be more efficient since it doesn’t maintain ordering like             a list does.\n",
    "\n",
    "Question 6 :What is a string in Python, and how is it different from a list\n",
    "Answer -  a string is an immutable sequence of characters, while a list is a mutable sequence of items, including other data types like strings,                  numbers,or even other lists. Strings are represented by characters enclosed in quotes (single or double), and lists are defined by square               brackets with items separated by commas. \n",
    "\n",
    "Question 7 :How do tuples ensure data integrity in Python.\n",
    "Answer - Tuples in Python ensure data integrity through their immutability. Once a tuple is created, its elements cannot be modified, added, or                   removed.This characteristic guarantees that the data stored within a tuple remains constant throughout its lifecycle, preventing accidental             or intentional alterations that could compromise data integrity. Immutability also makes tuples suitable for use as keys in dictionaries and             elements in sets, as their hash values remain consistent. \n",
    "\n",
    "Question 8 : What is a hash table, and how does it relate to dictionaries in Python\n",
    "Answer -  A hash table is a data structure that stores data in key-value pairs, where each key is unique and is mapped to a specific index in an array            using a hash function. This allows for efficient data retrieval, insertion, and deletion operations.\n",
    "          In Python, dictionaries are implemented using hash tables. When you create a dictionary, Python creates a hash table behind the scenes to               store the key-value pairs. The keys in the dictionary are hashed to determine their position in the hash table, allowing for fast lookups.\n",
    "\n",
    "Question 9 :Can lists contain different data types in Python\n",
    "Answer - Yes, lists in Python can contain elements of different data types. This is one of the features that makes Python lists very flexible. A single             list can hold integers, strings, floats, booleans, and even other lists or data structures. \n",
    "\n",
    "Question 10 :Explain why strings are immutable in Python\n",
    "Answer - Strings are immutable in Python for reasons related to efficiency, safety, and design principles. Immutability means that once a string is                 created, its value cannot be changed. Any operation that appears to modify a string actually creates a new string object.\n",
    "\n",
    "Question 11 :What advantages do dictionaries offer over lists for certain tasks\n",
    "Answer - Dictionaries excel over lists when you need fast lookup of data based on a specific identifier (key). Lists, on the other hand, are better for             ordered storage and retrieval where order is important. \n",
    "Advantages of Dictionaries:\n",
    "    Fast Data Retrieval:\n",
    "    Dictionaries use hashing to quickly locate values associated with keys, making them ideal for accessing specific data quickly. Lists, by contrast,         require sequential searching, which can be slow for large lists.\n",
    "    Logical Data Organization:\n",
    "    Dictionaries allow you to group related data together using key-value pairs, making it easier to organize and access data.\n",
    "    Mapping Relationships:\n",
    "    Dictionaries are well-suited for representing relationships between items, where one item (key) maps to another (value).\n",
    "    Dynamic Structure:\n",
    "    Dictionaries are mutable, allowing you to add, update, or delete key-value pairs as needed.\n",
    "    \n",
    "Advantages of Lists:\n",
    "    Ordered Storage:\n",
    "    Lists maintain the order of elements, which is crucial when order is important. \n",
    "    Versatile:\n",
    "    Lists can store any data type, including other lists, making them very flexible. \n",
    "    Dynamic Structure:\n",
    "    Lists can grow or shrink dynamically, allowing for flexible data storage. \n",
    "\n",
    "Question 12 : How do sets handle duplicate values in Python\n",
    "Answer -   Sets in Python automatically remove duplicate values when elements are added. This happens because sets are unordered collections of unique             elements, and they rely on a hashing mechanism to store items efficiently.\n",
    "        - If you add duplicate elements to a set, Python will only keep one copy.\n",
    "        - When you initialize a set with a list containing duplicates, the set removes them.\n",
    "\n",
    "Question 13 : Describe a scenario where using a tuple would be preferable over a list\n",
    "Answer - A tuple is preferable over a list when immutability is required—meaning the data should remain unchanged once it is set.\n",
    "         By using a tuple instead of a list:\n",
    "         - You prevent accidental modification, ensuring data integrity.\n",
    "         - You gain performance advantages as tuples are faster than lists for fixed data.\n",
    "         - You can use the tuple as a dictionary key, since tuples are hashable while lists are not.\n",
    "\n",
    "Question 14 : How does the “in” keyword work differently for lists and dictionaries\n",
    "Amnswer - For Lists:\n",
    "          When used with a list, in checks if a specific value exists within the list. Python iterates over the list sequentially, meaning it performs a             linear search.\n",
    "          Example\n",
    "          my_list = [10, 20, 30, 40]\n",
    "          print(20 in my_list)  # Output: True\n",
    "          print(50 in my_list)  # Output: False\n",
    "          For Dictionaries:\n",
    "          When used with a dictionary, in only checks for keys, not values! Python uses a hash table, making membership checks much faster than                   searching through a list.\n",
    "          my_dict = {\"name\": \"Sharad\", \"age\": 25, \"city\": \"Delhi\"}\n",
    "          print(\"name\" in my_dict)  # Output: True\n",
    "          print(\"Delhi\" in my_dict)  # Output: False (Checks keys, not values)\n",
    "\n",
    "Question 15 : Can you modify the elements of a tuple? Explain why or why not\n",
    "Answer - No, you cannot modify the elements of a tuple because tuples are immutable in Python. Once a tuple is created, its elements cannot be changed,             added, or removed.\n",
    "\n",
    "Question 16 : What is a nested dictionary, and give an example of its use case\n",
    "Answer - A nested dictionary in Python is a dictionary where the values are themselves dictionaries. This allows for the creation of a hierarchical                 structure where data can be organized into multiple levels. A common use case for nested dictionaries is representing complex, multi-                   layered data, such as employee information with nested address and contact details. \n",
    "\n",
    "Question 17 : Describe the time complexity of accessing elements in a dictionary\n",
    "Answer - Accessing an element in a dictionary using its key typically has a time complexity of O(1) on average, meaning it takes constant time,                   regardless of the dictionary's size. However, in the worst-case scenario, it can degrade to O(n), where n is the number of key-value pairs,             if there are many hash collisions.\n",
    "Question 18 : In what situations are lists preferred over dictionaries\n",
    "Answer - Lists are often preferred over dictionaries when order matters and you need to store a collection of items where elements are accessed by               their position (index) rather than by a unique key. Lists are also advantageous for simple sequential operations like sorting or reversing              elements.\n",
    "         Maintaining order:\n",
    "         If the order of elements is crucial (e.g., a list of tasks to be executed in a specific sequence), a list is a natural choice. \n",
    "         Sequential operations:\n",
    "         Operations like sorting, inserting, or deleting elements based on their position within the list are more efficient with lists. \n",
    "\n",
    "Question 19 : Why are dictionaries considered unordered, and how does that affect data retrieval\n",
    "Answer - Dictionaries in Python are considered unordered because they store key-value pairs using a hash table rather than maintaining a specific                   sequence of insertion. Unlike lists, dictionaries do not guarantee that items will remain in a fixed order when iterating over them.\n",
    "          Why Are Dictionaries Unordered?\n",
    "         - Hashing Mechanism:\n",
    "         - Each key in a dictionary is processed through a hash function that maps it to a unique index in memory.\n",
    "         - This means keys are stored based on hash values, not by their insertion order.\n",
    "         - Efficient Lookups:\n",
    "         - Because of hashing, Python can retrieve values instantly, regardless of the dictionary's size.\n",
    "\n",
    "Question 20 : Explain the difference between a list and a dictionary in terms of data retrieval.\n",
    "Answer - Lists:\n",
    "       - A list is an ordered collection of elements, accessed by index (position).\n",
    "       - Retrieving data from a list requires knowing the index of the element.\n",
    "       - Since indexing starts at 0, accessing the third element in a list looks like this:\n",
    "       - Time Complexity: Retrieving an element by index is O(1) (constant time), but searching for a specific value can take O(n) (linear time) if you          don’t know the index.\n",
    "         Dictionaries:\n",
    "        - A dictionary is an unordered collection of key-value \n",
    "        - Instead of retrieving values by index, you access data using keys.\n",
    "        - This allows for fast lookups, as dictionary operations use hashing.\n",
    "        - Time Complexity: Retrieving a value by key is O(1) (constant time) in average cases.\n"
   ]
  },
  {
   "cell_type": "markdown",
   "id": "d0e6e471-a4d0-4d19-94a8-e5b8ae3a33db",
   "metadata": {},
   "source": [
    "PRACTICAL QUESTIONS:-\n"
   ]
  },
  {
   "cell_type": "code",
   "execution_count": 18,
   "id": "51295133-72b1-4331-a73e-85deb12bc636",
   "metadata": {},
   "outputs": [
    {
     "name": "stdout",
     "output_type": "stream",
     "text": [
      "Sharad Chaurasiya\n"
     ]
    }
   ],
   "source": [
    "# 1.Write a code to create a string with your name and print it .\n",
    "# ans - \n",
    "name = \"Sharad Chaurasiya\"\n",
    "print(name)"
   ]
  },
  {
   "cell_type": "code",
   "execution_count": 20,
   "id": "7fbadbc4-e80f-49d9-950f-16487ed6c80f",
   "metadata": {},
   "outputs": [
    {
     "name": "stdout",
     "output_type": "stream",
     "text": [
      "11\n"
     ]
    }
   ],
   "source": [
    "# 2. Write a code to find the length of the string \"Hello World\".\n",
    "# ans -\n",
    "str = \"Hello World\"\n",
    "print(len(str))"
   ]
  },
  {
   "cell_type": "code",
   "execution_count": 40,
   "id": "e17098af-fb95-4120-bce9-e820ea0875ae",
   "metadata": {},
   "outputs": [
    {
     "name": "stdout",
     "output_type": "stream",
     "text": [
      "Pyt\n"
     ]
    }
   ],
   "source": [
    "# 3. Write a code to slice the first 3 characters from the string \"Python Programming\".\n",
    "# ans -\n",
    "str = \"Python Programming\"\n",
    "print(str[0:3])"
   ]
  },
  {
   "cell_type": "code",
   "execution_count": 42,
   "id": "8522bc55-2f91-4d3b-a717-282f62b0fcfb",
   "metadata": {},
   "outputs": [
    {
     "name": "stdout",
     "output_type": "stream",
     "text": [
      "HELLO\n"
     ]
    }
   ],
   "source": [
    "# 4. Write a code to convert the string \"hello\" to uppercase.\n",
    "# ans -\n",
    "str = \"hello\"\n",
    "uppercase_str = str.upper()\n",
    "print(uppercase_str)\n"
   ]
  },
  {
   "cell_type": "code",
   "execution_count": 46,
   "id": "66f4fae7-0932-488c-8f34-25a8533cd297",
   "metadata": {},
   "outputs": [
    {
     "name": "stdout",
     "output_type": "stream",
     "text": [
      "I like orange\n"
     ]
    }
   ],
   "source": [
    "# 5.  Write a code to replace the word \"apple\" with \"orange\" in the string \"I like apple\".\n",
    "# ans -\n",
    "str = \"I like apple\"\n",
    "str1 = str.replace(\"apple\", \"orange\")\n",
    "print(str1)"
   ]
  },
  {
   "cell_type": "code",
   "execution_count": 48,
   "id": "5e00bac1-19d0-4778-88cf-b524e48ad561",
   "metadata": {},
   "outputs": [
    {
     "name": "stdout",
     "output_type": "stream",
     "text": [
      "[1, 2, 3, 4, 5]\n"
     ]
    }
   ],
   "source": [
    "# 6.Write a code to create a list with numbers 1 to 5 and print it.\n",
    "# ans-\n",
    "list = [1,2,3,4,5]\n",
    "print(list)\n"
   ]
  },
  {
   "cell_type": "code",
   "execution_count": 56,
   "id": "f3ce8496-ece3-4e94-8fe9-261d50e3f56f",
   "metadata": {},
   "outputs": [
    {
     "name": "stdout",
     "output_type": "stream",
     "text": [
      "[1, 2, 3, 4, 10]\n"
     ]
    }
   ],
   "source": [
    "# 7.Write a code to append the number 10 to the list [1, 2, 3, 4].\n",
    "# ans-\n",
    "list = [1,2,3,4]\n",
    "list.append(10)\n",
    "print(list)"
   ]
  },
  {
   "cell_type": "code",
   "execution_count": 1,
   "id": "6e4084f5-e81e-499b-81a9-6171e4bc63f6",
   "metadata": {},
   "outputs": [
    {
     "name": "stdout",
     "output_type": "stream",
     "text": [
      "[1, 2, 4, 5]\n"
     ]
    }
   ],
   "source": [
    "# 8.write a code to remove the number 3 from the list [1, 2, 3, 4, 5].\n",
    "# ans-\n",
    "list = [1,2,3,4,5]\n",
    "list.remove(3)\n",
    "print(list)"
   ]
  },
  {
   "cell_type": "code",
   "execution_count": 3,
   "id": "a5a85118-51b4-4959-b4b8-148d8739a27f",
   "metadata": {},
   "outputs": [
    {
     "name": "stdout",
     "output_type": "stream",
     "text": [
      "b\n"
     ]
    }
   ],
   "source": [
    "# 9. write a code to access the second element in the list ['a', 'b', 'c', 'd'].\n",
    "# ans-\n",
    "list = ['a','b','c','d']\n",
    "second_element = list[1]\n",
    "print(second_element)"
   ]
  },
  {
   "cell_type": "code",
   "execution_count": 5,
   "id": "d976a44d-a465-45fc-94e0-0ceebd615b45",
   "metadata": {},
   "outputs": [
    {
     "name": "stdout",
     "output_type": "stream",
     "text": [
      "['d', 'c', 'b', 'a']\n"
     ]
    }
   ],
   "source": [
    "# 10. write a code to access the second element in the list ['a', 'b', 'c', 'd'].\n",
    "# ans-\n",
    "list = ['a','b','c','d']\n",
    "list.reverse()\n",
    "print(list)"
   ]
  },
  {
   "cell_type": "code",
   "execution_count": 9,
   "id": "8e8dab2c-421a-49f8-9e59-bbd84db2de99",
   "metadata": {},
   "outputs": [
    {
     "name": "stdout",
     "output_type": "stream",
     "text": [
      "(100, 200, 300)\n"
     ]
    }
   ],
   "source": [
    "# 11. Write a code to create a tuple with the elements 100, 200, 300 and print it.\n",
    "# ans-\n",
    "tuple = (100,200,300)\n",
    "print(tuple)"
   ]
  },
  {
   "cell_type": "code",
   "execution_count": 11,
   "id": "c8b807d8-28a9-480d-a779-d307dbc9e451",
   "metadata": {},
   "outputs": [
    {
     "name": "stdout",
     "output_type": "stream",
     "text": [
      "('green', 'blue', 'yellow')\n"
     ]
    }
   ],
   "source": [
    "# 12. Write a code to access the second-to-last element of the tuple ('red', 'green', 'blue', 'yellow').\n",
    "# ans- \n",
    "tuple = ('red', 'green','blue', 'yellow')\n",
    "print(tuple[1:])\n"
   ]
  },
  {
   "cell_type": "code",
   "execution_count": 21,
   "id": "8f667fab-7c78-447c-bbc8-de7ecd0aaa35",
   "metadata": {},
   "outputs": [
    {
     "name": "stdout",
     "output_type": "stream",
     "text": [
      "5\n"
     ]
    }
   ],
   "source": [
    "# 13.  Write a code to find the minimum number in the tuple (10, 20, 5, 15).\n",
    "# ans -\n",
    "tuple = (10,20,5,15)\n",
    "tuple1 =  min(tuple)\n",
    "print(tuple1)\n"
   ]
  },
  {
   "cell_type": "code",
   "execution_count": 23,
   "id": "d94f33d9-4982-4cb1-93b8-df4814ad64b0",
   "metadata": {},
   "outputs": [
    {
     "name": "stdout",
     "output_type": "stream",
     "text": [
      "1\n"
     ]
    }
   ],
   "source": [
    "# 14. Write a code to find the index of the element \"cat\" in the tuple ('dog', 'cat', 'rabbit').\n",
    "# ans-\n",
    "tuple = ('dog','cat','rabbit')\n",
    "tuple1 = tuple.index('cat')\n",
    "print(tuple1)"
   ]
  },
  {
   "cell_type": "code",
   "execution_count": 19,
   "id": "a39b266c-daa8-45a4-adf9-dc45c8af4566",
   "metadata": {},
   "outputs": [
    {
     "name": "stdout",
     "output_type": "stream",
     "text": [
      "False\n"
     ]
    }
   ],
   "source": [
    "# 15.  Write a code to create a tuple containing three different fruits and check if \"kiwi\" is in it.\n",
    "# ans -\n",
    "tuple = (\"mango\", \"apple\", \"orange\")\n",
    "is_kiwi_present = 'kiwi' in tuple\n",
    "print(is_kiwi_present)"
   ]
  },
  {
   "cell_type": "code",
   "execution_count": 21,
   "id": "d7e8317d-1cee-40f4-b6db-63a5bd5d2a68",
   "metadata": {},
   "outputs": [
    {
     "name": "stdout",
     "output_type": "stream",
     "text": [
      "{'a', 'c', 'b'}\n"
     ]
    }
   ],
   "source": [
    "# 16. Write a code to create a set with the elements 'a', 'b', 'c' and print it.\n",
    "# ans -\n",
    "set = {'a','b','c'}\n",
    "print(set)"
   ]
  },
  {
   "cell_type": "code",
   "execution_count": 23,
   "id": "0e06c87e-027d-491e-9496-1a355fe8552d",
   "metadata": {},
   "outputs": [
    {
     "name": "stdout",
     "output_type": "stream",
     "text": [
      "set()\n"
     ]
    }
   ],
   "source": [
    "# 17. Write a code to clear all elements from the set {1, 2, 3, 4, 5}.\n",
    "# ans -\n",
    "set = {1,2,3,4,5}\n",
    "set.clear()\n",
    "print(set)"
   ]
  },
  {
   "cell_type": "code",
   "execution_count": 25,
   "id": "26d5ef66-8d70-4e8d-8ffc-fcf9834f2c88",
   "metadata": {},
   "outputs": [
    {
     "name": "stdout",
     "output_type": "stream",
     "text": [
      "{1, 2, 3}\n"
     ]
    }
   ],
   "source": [
    "# 18. Write a code to remove the element 4 from the set {1, 2, 3, 4}.\n",
    "# ans-\n",
    "set = {1,2,3,4}\n",
    "set.remove(4)\n",
    "print(set)"
   ]
  },
  {
   "cell_type": "code",
   "execution_count": 41,
   "id": "dcc7d819-47fd-4fb0-9587-8199aa8a30a6",
   "metadata": {},
   "outputs": [
    {
     "name": "stdout",
     "output_type": "stream",
     "text": [
      "{1, 2, 3, 4, 5}\n"
     ]
    }
   ],
   "source": [
    "# 19. Write a code to find the union of two sets {1, 2, 3} and {3, 4, 5}.\n",
    "# ans-\n",
    "set1 = {1,2,3}\n",
    "set2 = {3,4,5}\n",
    "union_set = set1.union(set2)\n",
    "print(union_set)"
   ]
  },
  {
   "cell_type": "code",
   "execution_count": 45,
   "id": "7afe6b66-8af3-4eb2-81bd-ed6a54d71213",
   "metadata": {},
   "outputs": [
    {
     "name": "stdout",
     "output_type": "stream",
     "text": [
      "{2, 3}\n"
     ]
    }
   ],
   "source": [
    "#20. Write a code to find the intersection of two sets {1, 2, 3} and {2, 3, 4}.\n",
    "# ans-\n",
    "set1 = {1,2,3}\n",
    "set2 = {2,3,4}\n",
    "intersection_set = set1.intersection(set2)\n",
    "print(intersection_set)"
   ]
  },
  {
   "cell_type": "code",
   "execution_count": 49,
   "id": "7700eada-8c42-4eac-b2b1-f238a2f7c909",
   "metadata": {},
   "outputs": [
    {
     "name": "stdout",
     "output_type": "stream",
     "text": [
      "{'name': 'sharad', 'age': '19', 'city': 'bhopal'}\n"
     ]
    }
   ],
   "source": [
    "# 21. Write a code to create a dictionary with the keys \"name\", \"age\", and \"city\", and print it.\n",
    "# ans- \n",
    "dict = {\"name\" : \"sharad\",\"age\": \"19\",\"city\":\"bhopal\"}\n",
    "print(dict)\n"
   ]
  },
  {
   "cell_type": "code",
   "execution_count": 65,
   "id": "586f33db-f0c6-41ba-8391-011107219916",
   "metadata": {},
   "outputs": [
    {
     "name": "stdout",
     "output_type": "stream",
     "text": [
      "{'name': 'john', 'age': 25, 'country': 'USA'}\n"
     ]
    }
   ],
   "source": [
    "# 22.  Write a code to add a new key-value pair \"country\": \"USA\" to the dictionary {'name': 'John', 'age': 25}.\n",
    "# ans-\n",
    "my_dict = {'name':'john','age':25}\n",
    "my_dict['country'] = 'USA'\n",
    "print(my_dict)"
   ]
  },
  {
   "cell_type": "code",
   "execution_count": 69,
   "id": "c0e6845f-3ed4-4e21-8403-74558716cb25",
   "metadata": {},
   "outputs": [
    {
     "name": "stdout",
     "output_type": "stream",
     "text": [
      "Alice\n"
     ]
    }
   ],
   "source": [
    "# 23. Write a code to access the value associated with the key \"name\" in the dictionary {'name': 'Alice', 'age': 30}.\n",
    "# ans- \n",
    "dict = {'name' : 'Alice','age':30}\n",
    "print(dict[\"name\"])\n"
   ]
  },
  {
   "cell_type": "code",
   "execution_count": 79,
   "id": "70b82c1a-c697-4d02-9104-dc5b27ba060e",
   "metadata": {},
   "outputs": [
    {
     "name": "stdout",
     "output_type": "stream",
     "text": [
      "{'name': 'Bob', 'city': 'New York'}\n"
     ]
    }
   ],
   "source": [
    "# 24. Write a code to remove the key \"age\" from the dictionary {'name': 'Bob', 'age': 22, 'city': 'New York'}.\n",
    "dict = {'name':'Bob','age':22,'city':'New York'}\n",
    "del dict['age']\n",
    "print(dict)\n"
   ]
  },
  {
   "cell_type": "code",
   "execution_count": 89,
   "id": "f9e67fd8-3ca0-44be-9ffc-cf4ec9e8672d",
   "metadata": {},
   "outputs": [
    {
     "name": "stdout",
     "output_type": "stream",
     "text": [
      "True\n"
     ]
    }
   ],
   "source": [
    "# 25.  Write a code to check if the key \"city\" exists in the dictionary {'name': 'Alice', 'city': 'Paris'}.\n",
    "dict = {'name':'Alice','city':'paris'}\n",
    "city_exists ='city' in dict\n",
    "print(city_exists)"
   ]
  },
  {
   "cell_type": "code",
   "execution_count": 92,
   "id": "ea07fc3a-ee3c-4baa-836b-baeeb41b57a3",
   "metadata": {},
   "outputs": [
    {
     "name": "stdout",
     "output_type": "stream",
     "text": [
      "[1, 2, 3, 4, 5] (5, 10, 15, 20, 25) {'age': 20, 'city': 'bhopal'}\n"
     ]
    }
   ],
   "source": [
    "# 26.  Write a code to create a list, a tuple, and a dictionary, and print them all.\n",
    "# ans-\n",
    "list = [1,2,3,4,5]\n",
    "tuple = (5,10,15,20,25)\n",
    "dict = {'age':20,'city':'bhopal'}\n",
    "print((list),(tuple),(dict))"
   ]
  },
  {
   "cell_type": "code",
   "execution_count": 96,
   "id": "80b9e156-11ea-4dcb-8375-aab7120986dd",
   "metadata": {},
   "outputs": [
    {
     "name": "stdout",
     "output_type": "stream",
     "text": [
      "[45, 46, 48, 88, 88]\n"
     ]
    }
   ],
   "source": [
    "# 27.Write a code to create a list of 5 random numbers between 1 and 100, sort it in ascending order, and print the result(replaced).\n",
    "# ans-\n",
    "import random\n",
    "random_numbers = [random.randint(1, 100) for _ in range(5)]\n",
    "random_numbers.sort()\n",
    "print(random_numbers)"
   ]
  },
  {
   "cell_type": "code",
   "execution_count": 100,
   "id": "1f6066ba-a53b-4f5f-b2bb-90a78ca0628d",
   "metadata": {},
   "outputs": [
    {
     "name": "stdout",
     "output_type": "stream",
     "text": [
      "Element at the third index: date\n"
     ]
    }
   ],
   "source": [
    "# 28. Write a code to create a list with strings and print the element at the third index.\n",
    "# ans-\n",
    "string_list = [\"apple\", \"banana\", \"cherry\", \"date\", \"elderberry\"]\n",
    "third_index_element = string_list[3]\n",
    "print(\"Element at the third index:\", third_index_element)\n"
   ]
  },
  {
   "cell_type": "code",
   "execution_count": 104,
   "id": "83e17bc3-bca8-46e7-8a26-84046b403a00",
   "metadata": {},
   "outputs": [
    {
     "name": "stdout",
     "output_type": "stream",
     "text": [
      "Combined dictionary: {'a': 1, 'b': 2, 'c': 3, 'd': 4}\n"
     ]
    }
   ],
   "source": [
    "# 29. Write a code to combine two dictionaries into one and print the result.\n",
    "# ans-\n",
    "dict_a = {'a': 1, 'b': 2}\n",
    "dict_b = {'c': 3, 'd': 4}\n",
    "combined_dict = dict_a.copy()\n",
    "combined_dict.update(dict_b)\n",
    "print(\"Combined dictionary:\", combined_dict)\n",
    "\n",
    "\n"
   ]
  },
  {
   "cell_type": "code",
   "execution_count": 118,
   "id": "fe73963b-363f-4acc-9650-282c15dca980",
   "metadata": {},
   "outputs": [
    {
     "ename": "ModuleNotFoundError",
     "evalue": "No module named 'set'",
     "output_type": "error",
     "traceback": [
      "\u001b[1;31m---------------------------------------------------------------------------\u001b[0m",
      "\u001b[1;31mModuleNotFoundError\u001b[0m                       Traceback (most recent call last)",
      "Cell \u001b[1;32mIn[118], line 3\u001b[0m\n\u001b[0;32m      1\u001b[0m \u001b[38;5;66;03m# 30.  Write a code to convert a list of strings into a set.\u001b[39;00m\n\u001b[0;32m      2\u001b[0m \u001b[38;5;66;03m# ans -\u001b[39;00m\n\u001b[1;32m----> 3\u001b[0m \u001b[38;5;28;01mimport\u001b[39;00m \u001b[38;5;21;01mset\u001b[39;00m\n\u001b[0;32m      4\u001b[0m string_list \u001b[38;5;241m=\u001b[39m [\u001b[38;5;124m\"\u001b[39m\u001b[38;5;124mapple\u001b[39m\u001b[38;5;124m\"\u001b[39m,\u001b[38;5;124m\"\u001b[39m\u001b[38;5;124mbanana\u001b[39m\u001b[38;5;124m\"\u001b[39m,\u001b[38;5;124m\"\u001b[39m\u001b[38;5;124maplle\u001b[39m\u001b[38;5;124m\"\u001b[39m,\u001b[38;5;124m\"\u001b[39m\u001b[38;5;124morange\u001b[39m\u001b[38;5;124m\"\u001b[39m,\u001b[38;5;124m\"\u001b[39m\u001b[38;5;124mbanana\u001b[39m\u001b[38;5;124m\"\u001b[39m,\u001b[38;5;124m\"\u001b[39m\u001b[38;5;124mgrape\u001b[39m\u001b[38;5;124m\"\u001b[39m]\n\u001b[0;32m      5\u001b[0m string_set \u001b[38;5;241m=\u001b[39m \u001b[38;5;28mset\u001b[39m(string_list)\n",
      "\u001b[1;31mModuleNotFoundError\u001b[0m: No module named 'set'"
     ]
    }
   ],
   "source": [
    "# 30.  Write a code to convert a list of strings into a set.\n",
    "# ans -\n",
    "string_list = [\"apple\",\"banana\",\"aplle\",\"orange\",\"banana\",\"grape\"]\n",
    "string_set = set(string_list)\n",
    "print(string_set)"
   ]
  },
  {
   "cell_type": "code",
   "execution_count": null,
   "id": "9bc833d4-515f-44df-9d85-5eead3ea46cd",
   "metadata": {},
   "outputs": [],
   "source": []
  },
  {
   "cell_type": "code",
   "execution_count": null,
   "id": "e746ac1c-1cfa-4cdd-b845-a88c8921d656",
   "metadata": {},
   "outputs": [],
   "source": []
  }
 ],
 "metadata": {
  "kernelspec": {
   "display_name": "Python 3 (ipykernel)",
   "language": "python",
   "name": "python3"
  },
  "language_info": {
   "codemirror_mode": {
    "name": "ipython",
    "version": 3
   },
   "file_extension": ".py",
   "mimetype": "text/x-python",
   "name": "python",
   "nbconvert_exporter": "python",
   "pygments_lexer": "ipython3",
   "version": "3.12.7"
  }
 },
 "nbformat": 4,
 "nbformat_minor": 5
}
